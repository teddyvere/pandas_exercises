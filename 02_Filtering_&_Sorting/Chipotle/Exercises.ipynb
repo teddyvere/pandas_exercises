{
 "cells": [
  {
   "cell_type": "markdown",
   "metadata": {},
   "source": [
    "# Ex1 - Filtering and Sorting Data"
   ]
  },
  {
   "cell_type": "markdown",
   "metadata": {},
   "source": [
    "This time we are going to pull data directly from the internet.\n",
    "Special thanks to: https://github.com/justmarkham for sharing the dataset and materials.\n",
    "\n",
    "### Step 1. Import the necessary libraries"
   ]
  },
  {
   "cell_type": "code",
   "execution_count": 3,
   "metadata": {
    "collapsed": false
   },
   "outputs": [],
   "source": [
    "import pandas as pd     \n",
    "import numpy as np"
   ]
  },
  {
   "cell_type": "markdown",
   "metadata": {},
   "source": [
    "### Step 2. Import the dataset from this [address](https://raw.githubusercontent.com/justmarkham/DAT8/master/data/chipotle.tsv). "
   ]
  },
  {
   "cell_type": "code",
   "execution_count": 4,
   "metadata": {},
   "outputs": [],
   "source": [
    "url = 'https://raw.githubusercontent.com/justmarkham/DAT8/master/data/chipotle.tsv'\n",
    "\n"
   ]
  },
  {
   "cell_type": "markdown",
   "metadata": {},
   "source": [
    "### Step 3. Assign it to a variable called chipo."
   ]
  },
  {
   "cell_type": "code",
   "execution_count": 5,
   "metadata": {
    "collapsed": false
   },
   "outputs": [],
   "source": [
    "chipo = pd.read_csv(url, sep = '\\t')"
   ]
  },
  {
   "cell_type": "markdown",
   "metadata": {},
   "source": [
    "### Step 4. How many products cost more than $10.00?"
   ]
  },
  {
   "cell_type": "code",
   "execution_count": 32,
   "metadata": {
    "collapsed": false
   },
   "outputs": [
    {
     "ename": "TypeError",
     "evalue": "'float' object is not subscriptable",
     "output_type": "error",
     "traceback": [
      "\u001b[0;31m---------------------------------------------------------------------------\u001b[0m",
      "\u001b[0;31mTypeError\u001b[0m                                 Traceback (most recent call last)",
      "Cell \u001b[0;32mIn[32], line 2\u001b[0m\n\u001b[1;32m      1\u001b[0m \u001b[38;5;66;03m# clean the item_price column and transform it in a float\u001b[39;00m\n\u001b[0;32m----> 2\u001b[0m prices \u001b[38;5;241m=\u001b[39m [\u001b[38;5;28mfloat\u001b[39m(value[\u001b[38;5;241m1\u001b[39m : \u001b[38;5;241m-\u001b[39m\u001b[38;5;241m1\u001b[39m]) \u001b[38;5;28;01mfor\u001b[39;00m value \u001b[38;5;129;01min\u001b[39;00m chipo\u001b[38;5;241m.\u001b[39mitem_price]\n\u001b[1;32m      4\u001b[0m \u001b[38;5;66;03m# reassign the column with the cleaned prices\u001b[39;00m\n\u001b[1;32m      5\u001b[0m chipo\u001b[38;5;241m.\u001b[39mitem_price \u001b[38;5;241m=\u001b[39m prices\n",
      "Cell \u001b[0;32mIn[32], line 2\u001b[0m, in \u001b[0;36m<listcomp>\u001b[0;34m(.0)\u001b[0m\n\u001b[1;32m      1\u001b[0m \u001b[38;5;66;03m# clean the item_price column and transform it in a float\u001b[39;00m\n\u001b[0;32m----> 2\u001b[0m prices \u001b[38;5;241m=\u001b[39m [\u001b[38;5;28mfloat\u001b[39m(\u001b[43mvalue\u001b[49m\u001b[43m[\u001b[49m\u001b[38;5;241;43m1\u001b[39;49m\u001b[43m \u001b[49m\u001b[43m:\u001b[49m\u001b[43m \u001b[49m\u001b[38;5;241;43m-\u001b[39;49m\u001b[38;5;241;43m1\u001b[39;49m\u001b[43m]\u001b[49m) \u001b[38;5;28;01mfor\u001b[39;00m value \u001b[38;5;129;01min\u001b[39;00m chipo\u001b[38;5;241m.\u001b[39mitem_price]\n\u001b[1;32m      4\u001b[0m \u001b[38;5;66;03m# reassign the column with the cleaned prices\u001b[39;00m\n\u001b[1;32m      5\u001b[0m chipo\u001b[38;5;241m.\u001b[39mitem_price \u001b[38;5;241m=\u001b[39m prices\n",
      "\u001b[0;31mTypeError\u001b[0m: 'float' object is not subscriptable"
     ]
    }
   ],
   "source": [
    "# clean the item_price column and transform it in a float\n",
    "prices = [float(value[1 : -1]) for value in chipo.item_price]\n",
    "\n",
    "# reassign the column with the cleaned prices\n",
    "chipo.item_price = prices\n",
    "\n",
    "# delete the duplicates in item_name and quantity\n",
    "chipo_filtered = chipo.drop_duplicates(['item_name','quantity','choice_description'])\n",
    "\n",
    "# chipo_filtered\n",
    "\n",
    "# select only the products with quantity equals to 1\n",
    "chipo_one_prod = chipo_filtered[chipo_filtered.quantity == 1]\n",
    "chipo_one_prod\n",
    "\n",
    "# chipo_one_prod[chipo_one_prod['item_price']>10].item_name.nunique()\n",
    "# chipo_one_prod[chipo_one_prod['item_price']>10]\n",
    "\n",
    "\n",
    "\n",
    "chipo.query('price_per_item > 10').item_name.nunique()\n",
    "\n",
    "\n"
   ]
  },
  {
   "cell_type": "markdown",
   "metadata": {},
   "source": [
    "### Step 5. What is the price of each item? \n",
    "###### print a data frame with only two columns item_name and item_price"
   ]
  },
  {
   "cell_type": "code",
   "execution_count": 41,
   "metadata": {
    "collapsed": false
   },
   "outputs": [
    {
     "data": {
      "text/html": [
       "<div>\n",
       "<style scoped>\n",
       "    .dataframe tbody tr th:only-of-type {\n",
       "        vertical-align: middle;\n",
       "    }\n",
       "\n",
       "    .dataframe tbody tr th {\n",
       "        vertical-align: top;\n",
       "    }\n",
       "\n",
       "    .dataframe thead th {\n",
       "        text-align: right;\n",
       "    }\n",
       "</style>\n",
       "<table border=\"1\" class=\"dataframe\">\n",
       "  <thead>\n",
       "    <tr style=\"text-align: right;\">\n",
       "      <th></th>\n",
       "      <th>order_id</th>\n",
       "      <th>quantity</th>\n",
       "      <th>item_name</th>\n",
       "      <th>choice_description</th>\n",
       "      <th>item_price</th>\n",
       "    </tr>\n",
       "  </thead>\n",
       "  <tbody>\n",
       "    <tr>\n",
       "      <th>5</th>\n",
       "      <td>3</td>\n",
       "      <td>1</td>\n",
       "      <td>Chicken Bowl</td>\n",
       "      <td>[Fresh Tomato Salsa (Mild), [Rice, Cheese, Sou...</td>\n",
       "      <td>10.98</td>\n",
       "    </tr>\n",
       "    <tr>\n",
       "      <th>13</th>\n",
       "      <td>7</td>\n",
       "      <td>1</td>\n",
       "      <td>Chicken Bowl</td>\n",
       "      <td>[Fresh Tomato Salsa, [Fajita Vegetables, Rice,...</td>\n",
       "      <td>11.25</td>\n",
       "    </tr>\n",
       "    <tr>\n",
       "      <th>19</th>\n",
       "      <td>10</td>\n",
       "      <td>1</td>\n",
       "      <td>Chicken Bowl</td>\n",
       "      <td>[Tomatillo Red Chili Salsa, [Fajita Vegetables...</td>\n",
       "      <td>8.75</td>\n",
       "    </tr>\n",
       "    <tr>\n",
       "      <th>26</th>\n",
       "      <td>13</td>\n",
       "      <td>1</td>\n",
       "      <td>Chicken Bowl</td>\n",
       "      <td>[Roasted Chili Corn Salsa (Medium), [Pinto Bea...</td>\n",
       "      <td>8.49</td>\n",
       "    </tr>\n",
       "    <tr>\n",
       "      <th>42</th>\n",
       "      <td>20</td>\n",
       "      <td>1</td>\n",
       "      <td>Chicken Bowl</td>\n",
       "      <td>[Roasted Chili Corn Salsa, [Rice, Black Beans,...</td>\n",
       "      <td>11.25</td>\n",
       "    </tr>\n",
       "    <tr>\n",
       "      <th>...</th>\n",
       "      <td>...</td>\n",
       "      <td>...</td>\n",
       "      <td>...</td>\n",
       "      <td>...</td>\n",
       "      <td>...</td>\n",
       "    </tr>\n",
       "    <tr>\n",
       "      <th>4590</th>\n",
       "      <td>1825</td>\n",
       "      <td>1</td>\n",
       "      <td>Chicken Bowl</td>\n",
       "      <td>[Roasted Chili Corn Salsa, [Rice, Black Beans,...</td>\n",
       "      <td>11.25</td>\n",
       "    </tr>\n",
       "    <tr>\n",
       "      <th>4591</th>\n",
       "      <td>1825</td>\n",
       "      <td>1</td>\n",
       "      <td>Chicken Bowl</td>\n",
       "      <td>[Tomatillo Red Chili Salsa, [Rice, Black Beans...</td>\n",
       "      <td>8.75</td>\n",
       "    </tr>\n",
       "    <tr>\n",
       "      <th>4595</th>\n",
       "      <td>1826</td>\n",
       "      <td>1</td>\n",
       "      <td>Chicken Bowl</td>\n",
       "      <td>[Tomatillo Green Chili Salsa, [Rice, Black Bea...</td>\n",
       "      <td>8.75</td>\n",
       "    </tr>\n",
       "    <tr>\n",
       "      <th>4599</th>\n",
       "      <td>1827</td>\n",
       "      <td>1</td>\n",
       "      <td>Chicken Bowl</td>\n",
       "      <td>[Roasted Chili Corn Salsa, [Cheese, Lettuce]]</td>\n",
       "      <td>8.75</td>\n",
       "    </tr>\n",
       "    <tr>\n",
       "      <th>4604</th>\n",
       "      <td>1828</td>\n",
       "      <td>1</td>\n",
       "      <td>Chicken Bowl</td>\n",
       "      <td>[Fresh Tomato Salsa, [Rice, Black Beans, Chees...</td>\n",
       "      <td>8.75</td>\n",
       "    </tr>\n",
       "  </tbody>\n",
       "</table>\n",
       "<p>693 rows × 5 columns</p>\n",
       "</div>"
      ],
      "text/plain": [
       "      order_id  quantity     item_name  \\\n",
       "5            3         1  Chicken Bowl   \n",
       "13           7         1  Chicken Bowl   \n",
       "19          10         1  Chicken Bowl   \n",
       "26          13         1  Chicken Bowl   \n",
       "42          20         1  Chicken Bowl   \n",
       "...        ...       ...           ...   \n",
       "4590      1825         1  Chicken Bowl   \n",
       "4591      1825         1  Chicken Bowl   \n",
       "4595      1826         1  Chicken Bowl   \n",
       "4599      1827         1  Chicken Bowl   \n",
       "4604      1828         1  Chicken Bowl   \n",
       "\n",
       "                                     choice_description  item_price  \n",
       "5     [Fresh Tomato Salsa (Mild), [Rice, Cheese, Sou...       10.98  \n",
       "13    [Fresh Tomato Salsa, [Fajita Vegetables, Rice,...       11.25  \n",
       "19    [Tomatillo Red Chili Salsa, [Fajita Vegetables...        8.75  \n",
       "26    [Roasted Chili Corn Salsa (Medium), [Pinto Bea...        8.49  \n",
       "42    [Roasted Chili Corn Salsa, [Rice, Black Beans,...       11.25  \n",
       "...                                                 ...         ...  \n",
       "4590  [Roasted Chili Corn Salsa, [Rice, Black Beans,...       11.25  \n",
       "4591  [Tomatillo Red Chili Salsa, [Rice, Black Beans...        8.75  \n",
       "4595  [Tomatillo Green Chili Salsa, [Rice, Black Bea...        8.75  \n",
       "4599      [Roasted Chili Corn Salsa, [Cheese, Lettuce]]        8.75  \n",
       "4604  [Fresh Tomato Salsa, [Rice, Black Beans, Chees...        8.75  \n",
       "\n",
       "[693 rows x 5 columns]"
      ]
     },
     "execution_count": 41,
     "metadata": {},
     "output_type": "execute_result"
    }
   ],
   "source": [
    "chipo[(chipo['item_name'] == 'Chicken Bowl') & (chipo['quantity'] == 1)]\n"
   ]
  },
  {
   "cell_type": "markdown",
   "metadata": {},
   "source": [
    "### Step 6. Sort by the name of the item"
   ]
  },
  {
   "cell_type": "code",
   "execution_count": 47,
   "metadata": {
    "collapsed": false
   },
   "outputs": [
    {
     "data": {
      "text/plain": [
       "3389    6 Pack Soft Drink\n",
       "341     6 Pack Soft Drink\n",
       "1849    6 Pack Soft Drink\n",
       "1860    6 Pack Soft Drink\n",
       "2713    6 Pack Soft Drink\n",
       "              ...        \n",
       "2384    Veggie Soft Tacos\n",
       "781     Veggie Soft Tacos\n",
       "2851    Veggie Soft Tacos\n",
       "1699    Veggie Soft Tacos\n",
       "1395    Veggie Soft Tacos\n",
       "Name: item_name, Length: 4622, dtype: object"
      ]
     },
     "execution_count": 47,
     "metadata": {},
     "output_type": "execute_result"
    }
   ],
   "source": [
    "chipo['item_name'].sort_values()"
   ]
  },
  {
   "cell_type": "markdown",
   "metadata": {},
   "source": [
    "### Step 7. What was the quantity of the most expensive item ordered?"
   ]
  },
  {
   "cell_type": "code",
   "execution_count": 54,
   "metadata": {
    "collapsed": false
   },
   "outputs": [
    {
     "data": {
      "text/plain": [
       "3598    44.25\n",
       "Name: item_price, dtype: float64"
      ]
     },
     "execution_count": 54,
     "metadata": {},
     "output_type": "execute_result"
    }
   ],
   "source": [
    "chipo['item_price'].sort_values(ascending= False).head(1)"
   ]
  },
  {
   "cell_type": "markdown",
   "metadata": {},
   "source": [
    "### Step 8. How many times was a Veggie Salad Bowl ordered?"
   ]
  },
  {
   "cell_type": "code",
   "execution_count": 65,
   "metadata": {
    "collapsed": false
   },
   "outputs": [
    {
     "data": {
      "text/plain": [
       "18"
      ]
     },
     "execution_count": 65,
     "metadata": {},
     "output_type": "execute_result"
    }
   ],
   "source": [
    "len(chipo[chipo['item_name'] == 'Veggie Salad Bowl'])\n"
   ]
  },
  {
   "cell_type": "markdown",
   "metadata": {},
   "source": [
    "### Step 9. How many times did someone order more than one Canned Soda?"
   ]
  },
  {
   "cell_type": "code",
   "execution_count": 76,
   "metadata": {
    "collapsed": false
   },
   "outputs": [
    {
     "data": {
      "text/plain": [
       "20"
      ]
     },
     "execution_count": 76,
     "metadata": {},
     "output_type": "execute_result"
    }
   ],
   "source": [
    "len(chipo[(chipo['item_name'] == 'Canned Soda') & (chipo['quantity'] > 1)])\n"
   ]
  }
 ],
 "metadata": {
  "kernelspec": {
   "display_name": "Python 3",
   "language": "python",
   "name": "python3"
  },
  "language_info": {
   "codemirror_mode": {
    "name": "ipython",
    "version": 3
   },
   "file_extension": ".py",
   "mimetype": "text/x-python",
   "name": "python",
   "nbconvert_exporter": "python",
   "pygments_lexer": "ipython3",
   "version": "3.9.6"
  }
 },
 "nbformat": 4,
 "nbformat_minor": 0
}
